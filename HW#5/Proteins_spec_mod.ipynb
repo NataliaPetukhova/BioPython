{
 "cells": [
  {
   "cell_type": "code",
   "execution_count": 1,
   "metadata": {},
   "outputs": [],
   "source": [
    "#Task1\n",
    "#Given: A positive integer N≤100000, a number x between 0 and 1, and a DNA string s of length at most 10 bp.\n",
    "#Return: The probability that if N random DNA strings having the same length as s are constructed with GC-content x, \n",
    "#then at least one of the strings equals s. "
   ]
  },
  {
   "cell_type": "code",
   "execution_count": 2,
   "metadata": {},
   "outputs": [],
   "source": [
    "# To go from this probability (lets call it s_prob) to the probability \n",
    "#of getting at least one string that is equal to s we use the following equation:\n",
    "\n",
    "# P(at least 1 match of s) = 1 − P(no matches out of N strings) = 1 − [1 - s_prob]^N"
   ]
  },
  {
   "cell_type": "code",
   "execution_count": 3,
   "metadata": {},
   "outputs": [
    {
     "name": "stdout",
     "output_type": "stream",
     "text": [
      "0.689\n"
     ]
    }
   ],
   "source": [
    "N = 90000\n",
    "x = 0.6\n",
    "s = 'ATAGCCGA'\n",
    "AT = 0\n",
    "GC = 0\n",
    "for nt in s:\n",
    "    if nt == 'A' or nt == 'T':\n",
    "        AT += 1\n",
    "    elif nt == 'G' or nt == 'C':\n",
    "        GC += 1\n",
    "s_prob = (((1 - x) / 2)**AT) * (((x) / 2)**GC)\n",
    "prob = 1 - (1 - s_prob)**N\n",
    "print('%0.3f' % prob)        \n"
   ]
  },
  {
   "cell_type": "code",
   "execution_count": 4,
   "metadata": {},
   "outputs": [],
   "source": [
    "#Task2\n",
    "#Given: A list L of n (n≤100) positive real numbers.\n",
    "\n",
    "#Return: A protein string of length n−1 whose prefix spectrum is equal to L\n",
    "#(if multiple solutions exist, you may output any one of them). "
   ]
  },
  {
   "cell_type": "code",
   "execution_count": 5,
   "metadata": {},
   "outputs": [],
   "source": [
    "mass_table = {'A':71.03711,'C':103.00919,'D':115.02694,'E':129.04259,'F':147.06841, \n",
    "              'G':57.02146,'H':137.05891,'I':113.08406,'K':128.09496,'L':113.08406,'M':131.04049,\n",
    "              'N':114.04293,'P':97.05276,'Q':128.05858,'R':156.10111,'S':87.03203,'T':101.04768,\n",
    "              'V':99.06841,'W':186.07931,'Y':163.06333}"
   ]
  },
  {
   "cell_type": "code",
   "execution_count": 6,
   "metadata": {},
   "outputs": [],
   "source": [
    "L = [3524.8542, 3710.9335, 3841.974,3970.0326,4057.0646]"
   ]
  },
  {
   "cell_type": "code",
   "execution_count": 8,
   "metadata": {},
   "outputs": [
    {
     "name": "stdout",
     "output_type": "stream",
     "text": [
      "WMQS\n"
     ]
    }
   ],
   "source": [
    "aa_masses = []\n",
    "for i in range(len(L) - 1):\n",
    "    aa_mass = round(L[i + 1] - L[i], 4)\n",
    "    aa_masses.append(aa_mass)\n",
    "    \n",
    "rnd_mass_table = {}\n",
    "for k, v in mass_table.items():\n",
    "    rnd_mass_table[round(v, 4)] = k\n",
    "\n",
    "protein = ''\n",
    "for aa in aa_masses:\n",
    "    protein += rnd_mass_table[aa]\n",
    "\n",
    "print(protein)"
   ]
  },
  {
   "cell_type": "code",
   "execution_count": 9,
   "metadata": {},
   "outputs": [],
   "source": [
    "#Task3"
   ]
  },
  {
   "cell_type": "code",
   "execution_count": null,
   "metadata": {},
   "outputs": [],
   "source": [
    "#A list L containing 2n+3 positive real numbers (n≤100). The first number in L is the parent mass of a peptide P, \n",
    "#and all other numbers represent the masses of some b-ions and y-ions of P (in no particular order). \n",
    "#The mass of a b-ion is present, then so is that of its complementary y-ion, and vice-versa."
   ]
  },
  {
   "cell_type": "code",
   "execution_count": null,
   "metadata": {},
   "outputs": [],
   "source": [
    "# A protein string t of length n for which there exist two positive real numbers w1 and w2 \n",
    "#such that for every prefix p and suffix s of t, each of w(p)+w1 and w(s)+w2 is equal to an element of L.\n",
    "#(In other words, there exists a protein string whose t-prefix and t-suffix weights\n",
    "#correspond to the non-parent mass values of L.)"
   ]
  },
  {
   "cell_type": "code",
   "execution_count": 58,
   "metadata": {},
   "outputs": [],
   "source": [
    "pw_dict = {'A':71.03711,'C':103.00919,'D':115.02694,'E':129.04259,'F':147.06841, \n",
    "              'G':57.02146,'H':137.05891,'I':113.08406,'K':128.09496,'L':113.08406,'M':131.04049,\n",
    "              'N':114.04293,'P':97.05276,'Q':128.05858,'R':156.10111,'S':87.03203,'T':101.04768,\n",
    "              'V':99.06841,'W':186.07931,'Y':163.06333}"
   ]
  },
  {
   "cell_type": "code",
   "execution_count": 60,
   "metadata": {},
   "outputs": [
    {
     "name": "stdout",
     "output_type": "stream",
     "text": [
      "K\n",
      "KE\n",
      "KEK\n",
      "KEKE\n",
      "KEKEP\n"
     ]
    }
   ],
   "source": [
    "with open('C://Users//Natalia//Desktop//ITMO//BioPython//peptides weights.txt') as input_data:\n",
    "        weights = [float(line.strip()) for line in input_data.readlines()]\n",
    "\n",
    "# Initialize Variables\n",
    "protein = ''\n",
    "#parent  = weights[0] - 1st in weights\n",
    "current = min(weights) # mass of 1st peptide ion\n",
    "myw = weights[1:].remove(min(weights)) #other weights in the given list of peptides \n",
    "#starting from second ion that are lees than parent weight\n",
    "\n",
    "def find_weight_match(current_w, w_list):\n",
    "    for weight in weights:\n",
    "        for item in pw_dict.items():\n",
    "            if abs(item[1] - (weight - current)) < 0.01:\n",
    "                return item[0]\n",
    "\n",
    "\n",
    "# Given that len(weights) = 2n+3 => number of ions weights given\n",
    "# ___w1___t(n)___w2____ : preffix+w1__t(n)__suffix+w2 : \n",
    "# where preffix+w1 AND suffix+w2 == one ion of list L\n",
    "\n",
    "# 2n + 3 ==> 1 - parent ion; +2 == preffix and suffix; 2n == ions from w1 and w2 containing t(n)\n",
    "# n = number of amino acids in substring t\n",
    "n = (len(weights)-3)/2\n",
    "\n",
    "# Iteratively build the protein.\n",
    "while len(protein) < n:\n",
    "    temp = find_weight_match(current, myw)\n",
    "    if temp == -1:\n",
    "        break\n",
    "    else:\n",
    "        protein += temp\n",
    "        current += pw_dict[temp]\n",
    "        print(protein)\n"
   ]
  }
 ],
 "metadata": {
  "kernelspec": {
   "display_name": "Python 3",
   "language": "python",
   "name": "python3"
  },
  "language_info": {
   "codemirror_mode": {
    "name": "ipython",
    "version": 3
   },
   "file_extension": ".py",
   "mimetype": "text/x-python",
   "name": "python",
   "nbconvert_exporter": "python",
   "pygments_lexer": "ipython3",
   "version": "3.7.0"
  }
 },
 "nbformat": 4,
 "nbformat_minor": 2
}
