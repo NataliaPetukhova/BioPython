{
 "cells": [
  {
   "cell_type": "code",
   "execution_count": 1,
   "metadata": {},
   "outputs": [],
   "source": [
    "import json"
   ]
  },
  {
   "cell_type": "code",
   "execution_count": 2,
   "metadata": {},
   "outputs": [],
   "source": [
    "data = json.loads('[{\"name\": \"A\", \"parents\": []}, {\"name\": \"B\", \"parents\": [\"A\", \"C\"]}, {\"name\": \"C\", \"parents\": [\"A\"]}]')\n",
    "data = json.loads('[{\"name\": \"B\", \"parents\": [\"A\", \"C\"]},' +\n",
    "                  ' {\"name\": \"C\", \"parents\":[\"A\"]},' +\n",
    "                  ' {\"name\": \"A\", \"parents\": []},' +\n",
    "                  ' {\"name\": \"D\", \"parents\":[\"C\",\"F\"]},' +\n",
    "                  ' {\"name\": \"E\", \"parents\":[\"D\"]},' +\n",
    "                  ' {\"name\": \"F\", \"parents\":[]}]')\n"
   ]
  },
  {
   "cell_type": "code",
   "execution_count": 3,
   "metadata": {},
   "outputs": [
    {
     "name": "stdout",
     "output_type": "stream",
     "text": [
      "B: A C\n",
      "C: A\n",
      "A: \n",
      "D: C F\n",
      "E: D\n",
      "F: \n",
      "['B', 'C', 'A', 'D', 'E', 'F']\n",
      "{'B': ['A', 'C'], 'C': ['A'], 'A': [], 'D': ['C', 'F'], 'E': ['D'], 'F': []}\n"
     ]
    }
   ],
   "source": [
    "names = []\n",
    "parents = {}\n",
    "\n",
    "i = 0\n",
    "for cl in data:\n",
    "    print(cl['name'],': ', ' '.join(cl['parents']) , sep = '')\n",
    "    names.append(cl['name'])\n",
    "    parents[cl['name']] = cl['parents']\n",
    "    i += 1\n",
    "print(names)\n",
    "print(parents)\n"
   ]
  },
  {
   "cell_type": "code",
   "execution_count": 4,
   "metadata": {},
   "outputs": [
    {
     "name": "stdout",
     "output_type": "stream",
     "text": [
      "A :  5\n",
      "B :  1\n",
      "C :  4\n",
      "D :  2\n",
      "E :  1\n",
      "F :  3\n"
     ]
    }
   ],
   "source": [
    "childs = {el: [] for el in names}\n",
    "visited = {el: False for el in names}\n",
    "\n",
    "def DFS(cur, vertex):\n",
    "    childs[cur].append(vertex)\n",
    "    visited[cur] = True\n",
    "    for parent in parents[cur]:\n",
    "        if not visited[parent]:\n",
    "            DFS(parent, vertex)\n",
    "\n",
    "\n",
    "            \n",
    "for v in names:\n",
    "    visited = {el: False for el in names}\n",
    "    DFS(v, v)\n",
    "\n",
    "\n",
    "for key in sorted(childs.keys()):\n",
    "    print(key, \": \", len(childs[key]))"
   ]
  },
  {
   "cell_type": "code",
   "execution_count": 5,
   "metadata": {},
   "outputs": [],
   "source": [
    "def child_count(json_string):\n",
    "    \n",
    "    def DFS(cur, vertex):\n",
    "        childs[cur].append(vertex)\n",
    "        visited[cur] = True\n",
    "        for parent in parents[cur]:\n",
    "            if not visited[parent]:\n",
    "                DFS(parent, vertex)\n",
    "\n",
    "    names = []\n",
    "    parents = {}\n",
    "\n",
    "    for cl in json.loads(json_string):\n",
    "        names.append(cl['name'])\n",
    "        parents[cl['name']] = cl['parents']\n",
    "    \n",
    "    childs = {el: [] for el in names}\n",
    "    \n",
    "    for v in names:\n",
    "        visited = {el: False for el in names}\n",
    "        DFS(v, v)\n",
    "\n",
    "    for key in sorted(childs.keys()):\n",
    "        print(key, \": \", len(childs[key]))"
   ]
  },
  {
   "cell_type": "code",
   "execution_count": 6,
   "metadata": {},
   "outputs": [
    {
     "name": "stdout",
     "output_type": "stream",
     "text": [
      "A :  5\n",
      "B :  1\n",
      "C :  4\n",
      "D :  2\n",
      "E :  1\n",
      "F :  3\n"
     ]
    }
   ],
   "source": [
    "child_count('[{\"name\": \"B\", \"parents\": [\"A\", \"C\"]},' +\n",
    "                  ' {\"name\": \"C\", \"parents\":[\"A\"]},' +\n",
    "                  ' {\"name\": \"A\", \"parents\": []},' +\n",
    "                  ' {\"name\": \"D\", \"parents\":[\"C\",\"F\"]},' +\n",
    "                  ' {\"name\": \"E\", \"parents\":[\"D\"]},' +\n",
    "                  ' {\"name\": \"F\", \"parents\":[]}]')"
   ]
  },
  {
   "cell_type": "code",
   "execution_count": 7,
   "metadata": {},
   "outputs": [
    {
     "name": "stdout",
     "output_type": "stream",
     "text": [
      "A :  3\n",
      "B :  1\n",
      "C :  2\n"
     ]
    }
   ],
   "source": [
    "child_count('[{\"name\": \"A\", \"parents\": []}, {\"name\": \"B\", \"parents\": [\"A\", \"C\"]}, {\"name\": \"C\", \"parents\": [\"A\"]}]')"
   ]
  }
 ],
 "metadata": {
  "kernelspec": {
   "display_name": "Python 3",
   "language": "python",
   "name": "python3"
  },
  "language_info": {
   "codemirror_mode": {
    "name": "ipython",
    "version": 3
   },
   "file_extension": ".py",
   "mimetype": "text/x-python",
   "name": "python",
   "nbconvert_exporter": "python",
   "pygments_lexer": "ipython3",
   "version": "3.7.0"
  }
 },
 "nbformat": 4,
 "nbformat_minor": 2
}
