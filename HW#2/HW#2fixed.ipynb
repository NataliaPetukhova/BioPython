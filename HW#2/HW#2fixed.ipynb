{
 "cells": [
  {
   "cell_type": "code",
   "execution_count": 1,
   "metadata": {},
   "outputs": [],
   "source": [
    "import Bio\n",
    "from Bio.Seq import Seq\n",
    "from Bio.Alphabet import generic_dna"
   ]
  },
  {
   "cell_type": "code",
   "execution_count": 36,
   "metadata": {},
   "outputs": [
    {
     "name": "stdout",
     "output_type": "stream",
     "text": [
      "AGTACTAGAGCATTCTATGGAGA\n"
     ]
    }
   ],
   "source": [
    "dnaseq = Seq(\"AGTACTAGAGCATTCTATGGAGA\", generic_dna)\n",
    "print(dnaseq)"
   ]
  },
  {
   "cell_type": "code",
   "execution_count": 37,
   "metadata": {},
   "outputs": [
    {
     "data": {
      "text/plain": [
       "Seq('TCATGATCTCGTAAGATACCTCT', DNAAlphabet())"
      ]
     },
     "execution_count": 37,
     "metadata": {},
     "output_type": "execute_result"
    }
   ],
   "source": [
    "dnaseq.complement()"
   ]
  },
  {
   "cell_type": "code",
   "execution_count": 38,
   "metadata": {},
   "outputs": [],
   "source": [
    "#Let's assume that translation can start from any codons - not just from START codon (Methionin). \n",
    "#So we need to generate three frameshifts for each of the complement strands."
   ]
  },
  {
   "cell_type": "code",
   "execution_count": 39,
   "metadata": {},
   "outputs": [],
   "source": [
    "seq1 = dnaseq[0:]\n",
    "seq2 = dnaseq[1:]\n",
    "seq3 = dnaseq[2:]\n",
    "seq4 = dnaseq.complement()[0:]\n",
    "seq5 = dnaseq.complement()[1:]\n",
    "seq6 = dnaseq.complement()[2:]"
   ]
  },
  {
   "cell_type": "code",
   "execution_count": 40,
   "metadata": {},
   "outputs": [],
   "source": [
    "proteins = []\n",
    "for i in range(3):\n",
    "    proteins.append(seq1[i:].translate(table=1, to_stop=True))\n",
    "    proteins.append(seq2[i:].translate(table=1, to_stop=True))\n",
    "    proteins.append(seq3[i:].translate(table=1, to_stop=True))\n",
    "    proteins.append(seq4[i:].translate(table=1, to_stop=True))\n",
    "    proteins.append(seq5[i:].translate(table=1, to_stop=True))\n",
    "    proteins.append(seq6[i:].translate(table=1, to_stop=True))"
   ]
  },
  {
   "cell_type": "code",
   "execution_count": 41,
   "metadata": {},
   "outputs": [
    {
     "data": {
      "text/plain": [
       "[Seq('', ExtendedIUPACProtein()),\n",
       " Seq('', ExtendedIUPACProtein()),\n",
       " Seq('Y', ExtendedIUPACProtein()),\n",
       " Seq('S', ExtendedIUPACProtein()),\n",
       " Seq('Y', ExtendedIUPACProtein()),\n",
       " Seq('Y', ExtendedIUPACProtein()),\n",
       " Seq('MIS', ExtendedIUPACProtein()),\n",
       " Seq('MIS', ExtendedIUPACProtein()),\n",
       " Seq('MIS', ExtendedIUPACProtein()),\n",
       " Seq('TRAFYG', ExtendedIUPACProtein()),\n",
       " Seq('TRAFYG', ExtendedIUPACProtein()),\n",
       " Seq('LEHSME', ExtendedIUPACProtein()),\n",
       " Seq('DLVRYL', ExtendedIUPACProtein()),\n",
       " Seq('STRAFYG', ExtendedIUPACProtein()),\n",
       " Seq('VLEHSME', ExtendedIUPACProtein()),\n",
       " Seq('HDLVRYL', ExtendedIUPACProtein()),\n",
       " Seq('VLEHSME', ExtendedIUPACProtein()),\n",
       " Seq('HDLVRYL', ExtendedIUPACProtein())]"
      ]
     },
     "execution_count": 41,
     "metadata": {},
     "output_type": "execute_result"
    }
   ],
   "source": [
    "sorted(proteins, key = lambda x: len(x))"
   ]
  },
  {
   "cell_type": "code",
   "execution_count": 42,
   "metadata": {},
   "outputs": [],
   "source": [
    "#If we need to translate just from a \"proper\" START codon and until STOP codon:"
   ]
  },
  {
   "cell_type": "code",
   "execution_count": 43,
   "metadata": {},
   "outputs": [],
   "source": [
    "proteins = []\n",
    "seqs = [seq1, seq2, seq3, seq4, seq5, seq6]\n",
    "for seq in seqs:\n",
    "    position = seq.find(\"ATG\")\n",
    "    proteins.append(seq[position:].translate(table=1, to_stop=True))"
   ]
  },
  {
   "cell_type": "code",
   "execution_count": 44,
   "metadata": {},
   "outputs": [
    {
     "data": {
      "text/plain": [
       "[Seq('ME', ExtendedIUPACProtein()),\n",
       " Seq('ME', ExtendedIUPACProtein()),\n",
       " Seq('ME', ExtendedIUPACProtein()),\n",
       " Seq('MIS', ExtendedIUPACProtein()),\n",
       " Seq('MIS', ExtendedIUPACProtein()),\n",
       " Seq('MIS', ExtendedIUPACProtein())]"
      ]
     },
     "execution_count": 44,
     "metadata": {},
     "output_type": "execute_result"
    }
   ],
   "source": [
    "sorted(proteins, key = lambda x: len(x))"
   ]
  },
  {
   "cell_type": "code",
   "execution_count": null,
   "metadata": {},
   "outputs": [],
   "source": [
    "#Apply the function to generate all possible translates skipping STOP codon:"
   ]
  },
  {
   "cell_type": "code",
   "execution_count": 45,
   "metadata": {},
   "outputs": [],
   "source": [
    "def translate(seq, start=False):\n",
    "    dnaseq = Seq(seq, generic_dna)\n",
    "    seqs = [dnaseq[0:], dnaseq[1:], dnaseq[2:], dnaseq.complement()[0:], dnaseq.complement()[1:], dnaseq.complement()[2:]]\n",
    "    proteins = []\n",
    "    if start:\n",
    "        for seq in seqs:\n",
    "            position = seq.find(\"ATG\")\n",
    "            proteins.append(seq[position:].translate(table=1))\n",
    "    else:\n",
    "        for seq in seqs:\n",
    "            for i in range(3):\n",
    "                proteins.append(seq[i:].translate(table=1))\n",
    "    for protein in sorted(proteins, key = lambda x: len(x)):\n",
    "        print(protein)"
   ]
  },
  {
   "cell_type": "code",
   "execution_count": 46,
   "metadata": {},
   "outputs": [
    {
     "name": "stdout",
     "output_type": "stream",
     "text": [
      "Y*SILW\n",
      "Y*SILW\n",
      "TRAFYG\n",
      "Y*SILW\n",
      "TRAFYG\n",
      "LEHSME\n",
      "MIS*DT\n",
      "MIS*DT\n",
      "*SRKIP\n",
      "MIS*DT\n",
      "*SRKIP\n",
      "DLVRYL\n",
      "STRAFYG\n",
      "VLEHSME\n",
      "VLEHSME\n",
      "S*SRKIP\n",
      "HDLVRYL\n",
      "HDLVRYL\n"
     ]
    }
   ],
   "source": [
    "translate(\"AGTACTAGAGCATTCTATGGAG\")"
   ]
  },
  {
   "cell_type": "code",
   "execution_count": 23,
   "metadata": {},
   "outputs": [
    {
     "name": "stdout",
     "output_type": "stream",
     "text": [
      "ME\n",
      "ME\n",
      "ME\n",
      "MIS*DT\n",
      "MIS*DT\n",
      "MIS*DT\n"
     ]
    }
   ],
   "source": [
    "translate(\"AGTACTAGAGCATTCTATGGAG\", start = True)"
   ]
  }
 ],
 "metadata": {
  "kernelspec": {
   "display_name": "Python 3",
   "language": "python",
   "name": "python3"
  },
  "language_info": {
   "codemirror_mode": {
    "name": "ipython",
    "version": 3
   },
   "file_extension": ".py",
   "mimetype": "text/x-python",
   "name": "python",
   "nbconvert_exporter": "python",
   "pygments_lexer": "ipython3",
   "version": "3.7.0"
  }
 },
 "nbformat": 4,
 "nbformat_minor": 2
}
