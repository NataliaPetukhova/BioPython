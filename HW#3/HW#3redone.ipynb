{
 "cells": [
  {
   "cell_type": "code",
   "execution_count": 1,
   "metadata": {},
   "outputs": [],
   "source": [
    "import re\n",
    "import random\n",
    "import sys"
   ]
  },
  {
   "cell_type": "code",
   "execution_count": 5,
   "metadata": {},
   "outputs": [],
   "source": [
    "def generate_snp(n, seq):\n",
    "    if n > len(seq):\n",
    "        raise(\"WARNING: number of SNPs exceeds sequence length\")\n",
    "        n = len(seq)\n",
    "    snp_pos = random.sample(range(0, len(seq)), n)\n",
    "    result = []\n",
    "    for pos in snp_pos:\n",
    "        result.append([seq[pos], random.choice(('A', 'C', 'G', 'T')), pos])\n",
    "    return result"
   ]
  },
  {
   "cell_type": "code",
   "execution_count": 6,
   "metadata": {},
   "outputs": [],
   "source": [
    "def process_file(filename, n):\n",
    "    print(\"       SEQ_ID            |  MUTATION  |  POSITION-OF-MUTATION\")\n",
    "\n",
    "    with open(filename) as f:\n",
    "        for line in f:\n",
    "            seq_id, seq = re.split(r'\\s+', line.strip())\n",
    "            mutations = generate_snp(n, seq)\n",
    "            for mutation in mutations:\n",
    "                print(f\"{seq_id: <22}{mutation[0]: >10}->{mutation[1]}\\t{mutation[2]}\")\n"
   ]
  },
  {
   "cell_type": "code",
   "execution_count": 7,
   "metadata": {},
   "outputs": [
    {
     "ename": "ValueError",
     "evalue": "invalid literal for int() with base 10: 'Users\\\\Natalia\\\\AppData\\\\Roaming\\\\jupyter\\\\runtime\\\\kernel-795767cc-edb4-42be-8128-df43feae338c.json'",
     "output_type": "error",
     "traceback": [
      "\u001b[1;31m---------------------------------------------------------------------------\u001b[0m",
      "\u001b[1;31mValueError\u001b[0m                                Traceback (most recent call last)",
      "\u001b[1;32m<ipython-input-7-b49cfacb3a97>\u001b[0m in \u001b[0;36m<module>\u001b[1;34m\u001b[0m\n\u001b[0;32m      5\u001b[0m \u001b[1;33m\u001b[0m\u001b[0m\n\u001b[0;32m      6\u001b[0m     \u001b[0mfilename\u001b[0m \u001b[1;33m=\u001b[0m \u001b[0msys\u001b[0m\u001b[1;33m.\u001b[0m\u001b[0margv\u001b[0m\u001b[1;33m[\u001b[0m\u001b[1;36m1\u001b[0m\u001b[1;33m]\u001b[0m\u001b[1;33m\u001b[0m\u001b[0m\n\u001b[1;32m----> 7\u001b[1;33m     \u001b[0mn\u001b[0m \u001b[1;33m=\u001b[0m \u001b[0mint\u001b[0m\u001b[1;33m(\u001b[0m\u001b[0msys\u001b[0m\u001b[1;33m.\u001b[0m\u001b[0margv\u001b[0m\u001b[1;33m[\u001b[0m\u001b[1;36m2\u001b[0m\u001b[1;33m]\u001b[0m\u001b[1;33m[\u001b[0m\u001b[1;36m3\u001b[0m\u001b[1;33m:\u001b[0m\u001b[1;33m]\u001b[0m\u001b[1;33m)\u001b[0m\u001b[1;33m\u001b[0m\u001b[0m\n\u001b[0m\u001b[0;32m      8\u001b[0m     \u001b[1;32mtry\u001b[0m\u001b[1;33m:\u001b[0m\u001b[1;33m\u001b[0m\u001b[0m\n\u001b[0;32m      9\u001b[0m         \u001b[0mprocess_file\u001b[0m\u001b[1;33m(\u001b[0m\u001b[0mfilename\u001b[0m\u001b[1;33m,\u001b[0m \u001b[0mn\u001b[0m\u001b[1;33m)\u001b[0m\u001b[1;33m\u001b[0m\u001b[0m\n",
      "\u001b[1;31mValueError\u001b[0m: invalid literal for int() with base 10: 'Users\\\\Natalia\\\\AppData\\\\Roaming\\\\jupyter\\\\runtime\\\\kernel-795767cc-edb4-42be-8128-df43feae338c.json'"
     ]
    }
   ],
   "source": [
    "if __name__ == \"__main__\":\n",
    "    if len(sys.argv) < 3:\n",
    "        raise(\"Usage: script.py <path-to-seqs> <SNP#>\")\n",
    "        exit()\n",
    "\n",
    "    filename = sys.argv[1]\n",
    "    n = int(sys.argv[2][3:])\n",
    "    try:\n",
    "        process_file(filename, n)\n",
    "    except FileNotFoundError as error:\n",
    "        print(f\"No such file: {filename}\")\n",
    "        print(error)"
   ]
  },
  {
   "cell_type": "code",
   "execution_count": null,
   "metadata": {},
   "outputs": [],
   "source": [
    "HW#3redone.py C:\\\\Users\\\\Natalia\\\\Desktop\\\\ITMO\\\\BioPython\\\\HW#3"
   ]
  }
 ],
 "metadata": {
  "kernelspec": {
   "display_name": "Python 3",
   "language": "python",
   "name": "python3"
  },
  "language_info": {
   "codemirror_mode": {
    "name": "ipython",
    "version": 3
   },
   "file_extension": ".py",
   "mimetype": "text/x-python",
   "name": "python",
   "nbconvert_exporter": "python",
   "pygments_lexer": "ipython3",
   "version": "3.7.0"
  }
 },
 "nbformat": 4,
 "nbformat_minor": 2
}
