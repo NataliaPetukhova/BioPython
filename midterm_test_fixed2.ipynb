{
 "cells": [
  {
   "cell_type": "code",
   "execution_count": null,
   "metadata": {},
   "outputs": [],
   "source": [
    "#TASK1"
   ]
  },
  {
   "cell_type": "code",
   "execution_count": 51,
   "metadata": {},
   "outputs": [
    {
     "name": "stdout",
     "output_type": "stream",
     "text": [
      "                species        genus  group   sucrose    alanin   citrate  \\\n",
      "0     Fucus_vesiculosus        Fucus  brown  3.001472  3.711498  5.004262   \n",
      "1   Saccharina_japonica   Saccharina  brown  6.731070  1.255251  5.621499   \n",
      "2        Fucus_serratus        Fucus  brown  3.276870  0.346431  1.216767   \n",
      "3       Fucus_distichus        Fucus  brown  6.786996  6.641303  6.423606   \n",
      "4     Cladophora_fracta   Cladophora  green  3.861470  1.648450  6.940588   \n",
      "5   Cladophora_compacta   Cladophora  green  5.712284  3.461692  3.082826   \n",
      "6   Cladophora_gracilis   Cladophora  green  2.452623  6.881024  5.841520   \n",
      "7      Palmaria_palmata     Palmaria    red  0.704580  3.176440  5.573905   \n",
      "8  Saccharina_latissima   Saccharina  brown  1.636122  5.793163  1.071920   \n",
      "9   Ascophyllum_nodosum  Ascophyllum  brown  6.825467  0.875429  5.253527   \n",
      "\n",
      "    glucose  oleic_acid  \n",
      "0  2.548459    6.405165  \n",
      "1  6.013219    4.156700  \n",
      "2  3.623225    0.304573  \n",
      "3  2.272724    3.393203  \n",
      "4  2.316955    2.528886  \n",
      "5  3.343707    1.432514  \n",
      "6  2.740165    2.829016  \n",
      "7  3.242090    2.245538  \n",
      "8  3.947968    4.817804  \n",
      "9  3.414961    2.432526  \n"
     ]
    }
   ],
   "source": [
    "import pandas as pd\n",
    "\n",
    "df = pd.read_csv ('C://Users//Natalia//Desktop//ITMO//BioPython//midterm_test//algae.csv')\n",
    "print(df)"
   ]
  },
  {
   "cell_type": "code",
   "execution_count": 52,
   "metadata": {},
   "outputs": [
    {
     "name": "stdout",
     "output_type": "stream",
     "text": [
      "                species        genus  group   sucrose    alanin   citrate  \\\n",
      "0     Fucus_vesiculosus        Fucus  brown  3.001472  3.711498  5.004262   \n",
      "1   Saccharina_japonica   Saccharina  brown  6.731070  1.255251  5.621499   \n",
      "2        Fucus_serratus        Fucus  brown  3.276870  0.346431  1.216767   \n",
      "3       Fucus_distichus        Fucus  brown  6.786996  6.641303  6.423606   \n",
      "4     Cladophora_fracta   Cladophora  green  3.861470  1.648450  6.940588   \n",
      "5   Cladophora_compacta   Cladophora  green  5.712284  3.461692  3.082826   \n",
      "6   Cladophora_gracilis   Cladophora  green  2.452623  6.881024  5.841520   \n",
      "7      Palmaria_palmata     Palmaria    red  0.704580  3.176440  5.573905   \n",
      "8  Saccharina_latissima   Saccharina  brown  1.636122  5.793163  1.071920   \n",
      "9   Ascophyllum_nodosum  Ascophyllum  brown  6.825467  0.875429  5.253527   \n",
      "\n",
      "    glucose  oleic_acid  \n",
      "0  2.548459    6.405165  \n",
      "1  6.013219    4.156700  \n",
      "2  3.623225    0.304573  \n",
      "3  2.272724    3.393203  \n",
      "4  2.316955    2.528886  \n",
      "5  3.343707    1.432514  \n",
      "6  2.740165    2.829016  \n",
      "7  3.242090    2.245538  \n",
      "8  3.947968    4.817804  \n",
      "9  3.414961    2.432526  \n"
     ]
    }
   ],
   "source": [
    "data = pd.DataFrame(df)\n",
    "print(data)"
   ]
  },
  {
   "cell_type": "code",
   "execution_count": 53,
   "metadata": {},
   "outputs": [
    {
     "data": {
      "text/html": [
       "<div>\n",
       "<style scoped>\n",
       "    .dataframe tbody tr th:only-of-type {\n",
       "        vertical-align: middle;\n",
       "    }\n",
       "\n",
       "    .dataframe tbody tr th {\n",
       "        vertical-align: top;\n",
       "    }\n",
       "\n",
       "    .dataframe thead th {\n",
       "        text-align: right;\n",
       "    }\n",
       "</style>\n",
       "<table border=\"1\" class=\"dataframe\">\n",
       "  <thead>\n",
       "    <tr style=\"text-align: right;\">\n",
       "      <th></th>\n",
       "      <th>sucrose</th>\n",
       "      <th>alanin</th>\n",
       "      <th>citrate</th>\n",
       "      <th>glucose</th>\n",
       "      <th>oleic_acid</th>\n",
       "    </tr>\n",
       "  </thead>\n",
       "  <tbody>\n",
       "    <tr>\n",
       "      <th>count</th>\n",
       "      <td>10.000000</td>\n",
       "      <td>10.000000</td>\n",
       "      <td>10.000000</td>\n",
       "      <td>10.000000</td>\n",
       "      <td>10.000000</td>\n",
       "    </tr>\n",
       "    <tr>\n",
       "      <th>mean</th>\n",
       "      <td>4.098895</td>\n",
       "      <td>3.379068</td>\n",
       "      <td>4.603042</td>\n",
       "      <td>3.346347</td>\n",
       "      <td>3.054593</td>\n",
       "    </tr>\n",
       "    <tr>\n",
       "      <th>std</th>\n",
       "      <td>2.271190</td>\n",
       "      <td>2.400529</td>\n",
       "      <td>2.084948</td>\n",
       "      <td>1.094572</td>\n",
       "      <td>1.739319</td>\n",
       "    </tr>\n",
       "    <tr>\n",
       "      <th>min</th>\n",
       "      <td>0.704580</td>\n",
       "      <td>0.346431</td>\n",
       "      <td>1.071920</td>\n",
       "      <td>2.272724</td>\n",
       "      <td>0.304573</td>\n",
       "    </tr>\n",
       "    <tr>\n",
       "      <th>25%</th>\n",
       "      <td>2.589835</td>\n",
       "      <td>1.353551</td>\n",
       "      <td>3.563185</td>\n",
       "      <td>2.596385</td>\n",
       "      <td>2.292285</td>\n",
       "    </tr>\n",
       "    <tr>\n",
       "      <th>50%</th>\n",
       "      <td>3.569170</td>\n",
       "      <td>3.319066</td>\n",
       "      <td>5.413716</td>\n",
       "      <td>3.292899</td>\n",
       "      <td>2.678951</td>\n",
       "    </tr>\n",
       "    <tr>\n",
       "      <th>75%</th>\n",
       "      <td>6.476373</td>\n",
       "      <td>5.272747</td>\n",
       "      <td>5.786515</td>\n",
       "      <td>3.571159</td>\n",
       "      <td>3.965826</td>\n",
       "    </tr>\n",
       "    <tr>\n",
       "      <th>max</th>\n",
       "      <td>6.825467</td>\n",
       "      <td>6.881024</td>\n",
       "      <td>6.940588</td>\n",
       "      <td>6.013219</td>\n",
       "      <td>6.405165</td>\n",
       "    </tr>\n",
       "  </tbody>\n",
       "</table>\n",
       "</div>"
      ],
      "text/plain": [
       "         sucrose     alanin    citrate    glucose  oleic_acid\n",
       "count  10.000000  10.000000  10.000000  10.000000   10.000000\n",
       "mean    4.098895   3.379068   4.603042   3.346347    3.054593\n",
       "std     2.271190   2.400529   2.084948   1.094572    1.739319\n",
       "min     0.704580   0.346431   1.071920   2.272724    0.304573\n",
       "25%     2.589835   1.353551   3.563185   2.596385    2.292285\n",
       "50%     3.569170   3.319066   5.413716   3.292899    2.678951\n",
       "75%     6.476373   5.272747   5.786515   3.571159    3.965826\n",
       "max     6.825467   6.881024   6.940588   6.013219    6.405165"
      ]
     },
     "execution_count": 53,
     "metadata": {},
     "output_type": "execute_result"
    }
   ],
   "source": [
    "data.describe()"
   ]
  },
  {
   "cell_type": "code",
   "execution_count": 54,
   "metadata": {
    "scrolled": true
   },
   "outputs": [
    {
     "name": "stdout",
     "output_type": "stream",
     "text": [
      "              sucrose    alanin   citrate   glucose  oleic_acid\n",
      "genus                                                          \n",
      "Ascophyllum  6.825467  0.875429  5.253527  3.414961    2.432526\n",
      "Cladophora   4.008792  3.997055  5.288311  2.800276    2.263472\n",
      "Fucus        4.355112  3.566411  4.214878  2.814803    3.367647\n",
      "Palmaria     0.704580  3.176440  5.573905  3.242090    2.245538\n",
      "Saccharina   4.183596  3.524207  3.346710  4.980594    4.487252\n"
     ]
    }
   ],
   "source": [
    "genus_mean = data.groupby(['genus']).mean()\n",
    "genus_data = pd.DataFrame(genus_mean)\n",
    "print(genus_data)"
   ]
  },
  {
   "cell_type": "code",
   "execution_count": 55,
   "metadata": {},
   "outputs": [
    {
     "name": "stdout",
     "output_type": "stream",
     "text": [
      "sucrose\n",
      "alanin\n",
      "citrate\n",
      "glucose\n",
      "oleic_acid\n"
     ]
    }
   ],
   "source": [
    "for col in genus_data.columns: \n",
    "    print(col) "
   ]
  },
  {
   "cell_type": "code",
   "execution_count": 56,
   "metadata": {},
   "outputs": [],
   "source": [
    "import seaborn as sns\n",
    "from matplotlib import pyplot as plt\n",
    "sns.set()"
   ]
  },
  {
   "cell_type": "code",
   "execution_count": 57,
   "metadata": {},
   "outputs": [
    {
     "data": {
      "text/plain": [
       "<matplotlib.legend.Legend at 0x1d7ce1767b8>"
      ]
     },
     "execution_count": 57,
     "metadata": {},
     "output_type": "execute_result"
    },
    {
     "data": {
      "image/png": "[encoded data removed]",
      "text/plain": [
       "<Figure size 432x288 with 1 Axes>"
      ]
     },
     "metadata": {
      "needs_background": "light"
     },
     "output_type": "display_data"
    }
   ],
   "source": [
    "plt.plot(genus_data)\n",
    "plt.legend('sucrosealanincitrateglucoseoleic_acid', ncol=5, loc='upper left')"
   ]
  },
  {
   "cell_type": "code",
   "execution_count": 58,
   "metadata": {},
   "outputs": [],
   "source": [
    "#TASK2"
   ]
  },
  {
   "cell_type": "code",
   "execution_count": 59,
   "metadata": {},
   "outputs": [
    {
     "name": "stdout",
     "output_type": "stream",
     "text": [
      "<map object at 0x000001D7CF1AD5F8>\n"
     ]
    }
   ],
   "source": [
    "numbs = [1,2,3,4,5,6]\n",
    "my_iter = map(lambda x: True if x%3 == 0 else False, numbs)\n",
    "print(my_iter)"
   ]
  },
  {
   "cell_type": "code",
   "execution_count": 60,
   "metadata": {},
   "outputs": [
    {
     "name": "stdout",
     "output_type": "stream",
     "text": [
      "False\n",
      "False\n",
      "True\n",
      "False\n",
      "False\n",
      "True\n",
      "Expecting Error!\n"
     ]
    }
   ],
   "source": [
    "while True:\n",
    "    try:\n",
    "        print(next(my_iter))\n",
    "    except StopIteration as error:\n",
    "        print('Expecting Error!')\n",
    "        break\n",
    "    "
   ]
  },
  {
   "cell_type": "code",
   "execution_count": 62,
   "metadata": {},
   "outputs": [
    {
     "name": "stdout",
     "output_type": "stream",
     "text": [
      "Enter a whole number:\n",
      "17\n",
      "Enter a category: \n",
      "math\n",
      "17 is the least random number, according to the Hackers' Jargon File.\n"
     ]
    }
   ],
   "source": [
    "import requests\n",
    "\n",
    "my_numbers = [17,45,999,1883]\n",
    "category = 'math, date, trivia, year'\n",
    "\n",
    "\n",
    "BASE = \"http://numbersapi.com/\"\n",
    "number = input(\"Enter a whole number:\\n\")\n",
    "category = input(\"Enter a category: \\n\")\n",
    "\n",
    "response = requests.get(BASE + str(number) + '/' + str(category))\n",
    "print(response.text)\n",
    "  "
   ]
  },
  {
   "cell_type": "code",
   "execution_count": 14,
   "metadata": {},
   "outputs": [
    {
     "name": "stdout",
     "output_type": "stream",
     "text": [
      "45 is the year that the emperor Claudius expels the Jews from Rome.\n"
     ]
    }
   ],
   "source": [
    "import requests\n",
    "import random\n",
    "\n",
    "my_numbers = ['17','45','999','1883']\n",
    "\n",
    "cat = ['math', 'date', 'trivia', 'year']\n",
    "\n",
    "BASE = \"http://numbersapi.com/\"\n",
    "\n",
    "result = requests.get(BASE + random.choice(my_numbers) + '/'+ random.choice(cat))\n",
    "print(result.text)"
   ]
  },
  {
   "cell_type": "code",
   "execution_count": 12,
   "metadata": {},
   "outputs": [
    {
     "name": "stdout",
     "output_type": "stream",
     "text": [
      "17 is a repunit prime in hexadecimal (11).\n",
      "January 17th is the day in 1996 that the Czech Republic applies for membership of the European Union.\n",
      "17 is 'the least random number' as described at MIT, according to hackers' lore.\n",
      "17 is the year that Maroboduus, king of the Marcomanni, is defeated by Arminius and his Germanic tribes.\n",
      "45 is a triangular number, a hexagonal and 16-gonal number, a Kaprekar number, and a Harshad number.\n",
      "February 14th is the day in 842 that Charles the Bald and Louis the German swear the Oaths of Strasbourg in the French and German languages.\n",
      "45 is the sapphire wedding anniversary in years of marriage.\n",
      "45 is the year that Paul of Tarsus begins his missionary travels, according to one traditional dating scheme.\n",
      "999 is a number for which we're missing a fact (submit one to numbersapi at google mail!).\n",
      "September 25th is the day in 1957 that Central High School in Little Rock, Arkansas, is integrated by the use of United States Army troops.\n",
      "999 is an unremarkable number.\n",
      "999 is the year that Silesia is incorporated into territory ruled by Boleslaus I of Poland.\n",
      "1883 is the number of conjugacy classes of the alternating group A_{28}.\n",
      "February 25th is the day in 1932 that Adolf Hitler obtains German citizenship by naturalization, which allows him to run in the 1932 election for Reichspräsident.\n",
      "1883 is a boring number.\n",
      "1883 is the year that the Wolf's Head Society (known as The Third Society until 1888) is founded at Yale University.\n"
     ]
    }
   ],
   "source": [
    "import requests\n",
    "\n",
    "my_numbers = ['17','45','999','1883']\n",
    "\n",
    "cat = ['math', 'date', 'trivia', 'year']\n",
    "\n",
    "BASE = \"http://numbersapi.com/\"\n",
    "for numb in my_numbers:\n",
    "    for c in cat:\n",
    "        result = requests.get(BASE + numb + '/'+ c)\n",
    "        print(result.text)"
   ]
  },
  {
   "cell_type": "code",
   "execution_count": null,
   "metadata": {},
   "outputs": [],
   "source": []
  }
 ],
 "metadata": {
  "kernelspec": {
   "display_name": "Python 3",
   "language": "python",
   "name": "python3"
  },
  "language_info": {
   "codemirror_mode": {
    "name": "ipython",
    "version": 3
   },
   "file_extension": ".py",
   "mimetype": "text/x-python",
   "name": "python",
   "nbconvert_exporter": "python",
   "pygments_lexer": "ipython3",
   "version": "3.7.0"
  }
 },
 "nbformat": 4,
 "nbformat_minor": 2
}
